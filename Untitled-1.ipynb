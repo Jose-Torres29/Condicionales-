{
 "cells": [
  {
   "cell_type": "code",
   "execution_count": 1,
   "metadata": {},
   "outputs": [
    {
     "data": {
      "text/plain": [
       "False"
      ]
     },
     "execution_count": 1,
     "metadata": {},
     "output_type": "execute_result"
    }
   ],
   "source": [
    "1>3"
   ]
  },
  {
   "cell_type": "code",
   "execution_count": 3,
   "metadata": {},
   "outputs": [
    {
     "data": {
      "text/plain": [
       "True"
      ]
     },
     "execution_count": 3,
     "metadata": {},
     "output_type": "execute_result"
    }
   ],
   "source": [
    "3==3"
   ]
  },
  {
   "cell_type": "code",
   "execution_count": 4,
   "metadata": {},
   "outputs": [
    {
     "data": {
      "text/plain": [
       "False"
      ]
     },
     "execution_count": 4,
     "metadata": {},
     "output_type": "execute_result"
    }
   ],
   "source": [
    "4<3"
   ]
  },
  {
   "cell_type": "code",
   "execution_count": 7,
   "metadata": {},
   "outputs": [
    {
     "name": "stdout",
     "output_type": "stream",
     "text": [
      "No es tu cumpleaños\n"
     ]
    }
   ],
   "source": [
    "h = input(\"¿Que fecha es hoy\")\n",
    "n = input(\"¿En qué fecha naciste?\")\n",
    "if h == n:\n",
    "    print((\"Es tu cumpleaños\"))\n",
    "elif n > h:\n",
    "    print((\"No es tu cumpleaños\"))\n",
    "\n",
    "\n"
   ]
  },
  {
   "cell_type": "code",
   "execution_count": 18,
   "metadata": {},
   "outputs": [
    {
     "name": "stdout",
     "output_type": "stream",
     "text": [
      "La suma es: 10\n",
      "La multiplicacion es: 10\n"
     ]
    }
   ],
   "source": [
    "x = int(input(\"Coloca un numero\"))\n",
    "y = int(input(\"Coloca otro numero\"))\n",
    "resultado_suma = x + 2\n",
    "resultado_multiplicacion = y * 2\n",
    "print(\"La suma es:\", resultado_suma)\n",
    "print(\"La multiplicacion es:\", resultado_multiplicacion)"
   ]
  },
  {
   "cell_type": "code",
   "execution_count": 2,
   "metadata": {},
   "outputs": [
    {
     "name": "stdout",
     "output_type": "stream",
     "text": [
      "No entra en el rango de entrega😓\n"
     ]
    }
   ],
   "source": [
    "x = int(input(\"Coloca tu numero postal\"))\n",
    "if int(x) >=50000:\n",
    "    print(\"Esta dentro del rango de entrega y puedo enviarte cosas\")\n",
    "elif int(x) >=50030:\n",
    "    print(\"Esta dentro del rango de entrega y puedo enviarte cosas\")\n",
    "elif int(x):\n",
    "    print(\"No entra en el rango de entrega😓\")\n",
    "\n",
    "\n",
    "\n"
   ]
  }
 ],
 "metadata": {
  "kernelspec": {
   "display_name": "Python 3",
   "language": "python",
   "name": "python3"
  },
  "language_info": {
   "codemirror_mode": {
    "name": "ipython",
    "version": 3
   },
   "file_extension": ".py",
   "mimetype": "text/x-python",
   "name": "python",
   "nbconvert_exporter": "python",
   "pygments_lexer": "ipython3",
   "version": "3.11.3"
  }
 },
 "nbformat": 4,
 "nbformat_minor": 2
}
